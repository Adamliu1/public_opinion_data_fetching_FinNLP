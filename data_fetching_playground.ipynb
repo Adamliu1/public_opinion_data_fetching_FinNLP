{
 "cells": [
  {
   "attachments": {},
   "cell_type": "markdown",
   "metadata": {},
   "source": [
    "# 数据获取"
   ]
  },
  {
   "cell_type": "code",
   "execution_count": 1,
   "metadata": {
    "is_executing": true
   },
   "outputs": [],
   "source": [
    "from finnlp.data_sources.news.sina_finance_date_range import Sina_Finance_Date_Range\n",
    "from tqdm import tqdm\n",
    "import requests\n",
    "from lxml import etree\n",
    "import time"
   ]
  },
  {
   "cell_type": "code",
   "execution_count": 2,
   "metadata": {
    "collapsed": false
   },
   "outputs": [
    {
     "name": "stdout",
     "output_type": "stream",
     "text": [
      "Test, Hello!!!\n"
     ]
    }
   ],
   "source": [
    "print(\"Test, Hello!!!\")"
   ]
  },
  {
   "attachments": {},
   "cell_type": "markdown",
   "metadata": {},
   "source": [
    "## apply proxy first when in China (by pass firewall to fetch other free proxies list)"
   ]
  },
  {
   "cell_type": "code",
   "execution_count": 3,
   "metadata": {
    "ExecuteTime": {
     "end_time": "2023-07-12T13:38:23.324781535Z",
     "start_time": "2023-07-12T13:38:23.323942007Z"
    }
   },
   "outputs": [],
   "source": [
    "# import sys,os,os.path\n",
    "# os.environ['HTTP_PROXY']=\"http://127.0.0.1:1082\"\n",
    "# os.environ['HTTPS_PROXY']=\"https://127.0.0.1:1082\"\n"
   ]
  },
  {
   "cell_type": "code",
   "execution_count": 4,
   "metadata": {
    "ExecuteTime": {
     "end_time": "2023-07-12T13:38:23.515486632Z",
     "start_time": "2023-07-12T13:38:23.514390103Z"
    }
   },
   "outputs": [],
   "source": [
    "# !ping google.com"
   ]
  },
  {
   "attachments": {},
   "cell_type": "markdown",
   "metadata": {},
   "source": [
    "## Try fetching news"
   ]
  },
  {
   "cell_type": "code",
   "execution_count": 5,
   "metadata": {
    "ExecuteTime": {
     "end_time": "2023-07-12T13:38:24.570716432Z",
     "start_time": "2023-07-12T13:38:24.564961918Z"
    }
   },
   "outputs": [],
   "source": [
    "# # Sina Finance\n",
    "\n",
    "# start_date = \"2023-07-11\"\n",
    "# end_date = \"2023-07-12\"\n",
    "# config = {\n",
    "#     \"use_proxy\": \"china_free\",   # use proxies to prvent ip blocking\n",
    "#     \"max_retry\": 5,\n",
    "#     \"proxy_pages\": 5,\n",
    "# }\n",
    "\n",
    "# news_downloader = Sina_Finance_Date_Range(config)                # init\n",
    "# news_downloader.download_date_range_all(start_date,end_date)\t # Download headers\n",
    "# news_downloader.gather_content()\t\t                        # Download contents\n",
    "# df = news_downloader.dataframe\n",
    "# selected_columns = [\"title\", \"content\"]\n",
    "# df[selected_columns].head(10)"
   ]
  },
  {
   "cell_type": "code",
   "execution_count": 7,
   "metadata": {},
   "outputs": [
    {
     "name": "stderr",
     "output_type": "stream",
     "text": [
      "Gathering free ips by pages...: 100%|██████████| 5/5 [00:06<00:00,  1.27s/it]\n",
      "Checking ips: 100%|██████████| 60/60 [01:28<00:00,  1.47s/it]\n"
     ]
    },
    {
     "name": "stdout",
     "output_type": "stream",
     "text": [
      "获取到的代理ip数量: 60 。Get proxy ips: 60.\n",
      "能用的代理数量： 57。Usable proxy ips: 57.\n",
      "Geting pages: 0 1 2 Get total 3 pages.\n"
     ]
    },
    {
     "data": {
      "text/html": [
       "<div>\n",
       "<style scoped>\n",
       "    .dataframe tbody tr th:only-of-type {\n",
       "        vertical-align: middle;\n",
       "    }\n",
       "\n",
       "    .dataframe tbody tr th {\n",
       "        vertical-align: top;\n",
       "    }\n",
       "\n",
       "    .dataframe thead th {\n",
       "        text-align: right;\n",
       "    }\n",
       "</style>\n",
       "<table border=\"1\" class=\"dataframe\">\n",
       "  <thead>\n",
       "    <tr style=\"text-align: right;\">\n",
       "      <th></th>\n",
       "      <th>title</th>\n",
       "      <th>create time</th>\n",
       "    </tr>\n",
       "  </thead>\n",
       "  <tbody>\n",
       "    <tr>\n",
       "      <th>0</th>\n",
       "      <td>双环传动：融资净偿还7524.05万元，两市排名第15（07-20）</td>\n",
       "      <td>07-21 08:51</td>\n",
       "    </tr>\n",
       "    <tr>\n",
       "      <th>1</th>\n",
       "      <td>双环传动07月20日获深股通增持112.66万股</td>\n",
       "      <td>07-21 08:34</td>\n",
       "    </tr>\n",
       "    <tr>\n",
       "      <th>2</th>\n",
       "      <td>双环传动7月20日快速反弹</td>\n",
       "      <td>07-20 09:38</td>\n",
       "    </tr>\n",
       "    <tr>\n",
       "      <th>3</th>\n",
       "      <td>双环传动07月19日被深股通减持58.56万股</td>\n",
       "      <td>07-20 08:53</td>\n",
       "    </tr>\n",
       "    <tr>\n",
       "      <th>4</th>\n",
       "      <td>双环传动：融资净偿还1355.88万元，融资余额6亿元（07-19）</td>\n",
       "      <td>07-20 08:47</td>\n",
       "    </tr>\n",
       "    <tr>\n",
       "      <th>5</th>\n",
       "      <td>双环传动：融资净买入5275.08万元，两市排名第14（07-18）</td>\n",
       "      <td>07-19 08:49</td>\n",
       "    </tr>\n",
       "    <tr>\n",
       "      <th>6</th>\n",
       "      <td>双环传动07月18日被深股通减持353.27万股</td>\n",
       "      <td>07-19 08:18</td>\n",
       "    </tr>\n",
       "    <tr>\n",
       "      <th>7</th>\n",
       "      <td>双环传动7月18日现9笔大宗交易</td>\n",
       "      <td>07-18 05:41</td>\n",
       "    </tr>\n",
       "    <tr>\n",
       "      <th>8</th>\n",
       "      <td>双环传动现9笔大宗交易 合计成交355.40万股</td>\n",
       "      <td>07-18 05:28</td>\n",
       "    </tr>\n",
       "    <tr>\n",
       "      <th>9</th>\n",
       "      <td>大宗交易：双环传动成交1.06亿元，折价6.79%（07-18）</td>\n",
       "      <td>07-18 04:33</td>\n",
       "    </tr>\n",
       "  </tbody>\n",
       "</table>\n",
       "</div>"
      ],
      "text/plain": [
       "                                title  create time\n",
       "0  双环传动：融资净偿还7524.05万元，两市排名第15（07-20）  07-21 08:51\n",
       "1            双环传动07月20日获深股通增持112.66万股  07-21 08:34\n",
       "2                       双环传动7月20日快速反弹  07-20 09:38\n",
       "3             双环传动07月19日被深股通减持58.56万股  07-20 08:53\n",
       "4  双环传动：融资净偿还1355.88万元，融资余额6亿元（07-19）  07-20 08:47\n",
       "5  双环传动：融资净买入5275.08万元，两市排名第14（07-18）  07-19 08:49\n",
       "6            双环传动07月18日被深股通减持353.27万股  07-19 08:18\n",
       "7                    双环传动7月18日现9笔大宗交易  07-18 05:41\n",
       "8            双环传动现9笔大宗交易 合计成交355.40万股  07-18 05:28\n",
       "9    大宗交易：双环传动成交1.06亿元，折价6.79%（07-18）  07-18 04:33"
      ]
     },
     "execution_count": 7,
     "metadata": {},
     "output_type": "execute_result"
    }
   ],
   "source": [
    "# Easymoney\n",
    "from finnlp.data_sources.news.eastmoney_streaming import Eastmoney_Streaming\n",
    "\n",
    "pages = 3\n",
    "stock = \"002472\"\n",
    "config = {\n",
    "    \"use_proxy\": \"china_free\",\n",
    "    \"max_retry\": 5,\n",
    "    \"proxy_pages\": 5,\n",
    "}\n",
    "\n",
    "news_downloader = Eastmoney_Streaming(config)\n",
    "news_downloader.download_streaming_stock(stock,pages)\n",
    "df = news_downloader.dataframe\n",
    "selected_columns = [\"title\", \"create time\"]\n",
    "df[selected_columns].head(10)"
   ]
  },
  {
   "cell_type": "code",
   "execution_count": 15,
   "metadata": {
    "ExecuteTime": {
     "end_time": "2023-07-12T13:38:27.291362948Z",
     "start_time": "2023-07-12T13:38:27.250736384Z"
    }
   },
   "outputs": [],
   "source": [
    "df.to_csv(\"test_news_fetched.csv\")"
   ]
  },
  {
   "cell_type": "code",
   "execution_count": 16,
   "metadata": {},
   "outputs": [
    {
     "data": {
      "text/html": [
       "<div>\n",
       "<style scoped>\n",
       "    .dataframe tbody tr th:only-of-type {\n",
       "        vertical-align: middle;\n",
       "    }\n",
       "\n",
       "    .dataframe tbody tr th {\n",
       "        vertical-align: top;\n",
       "    }\n",
       "\n",
       "    .dataframe thead th {\n",
       "        text-align: right;\n",
       "    }\n",
       "</style>\n",
       "<table border=\"1\" class=\"dataframe\">\n",
       "  <thead>\n",
       "    <tr style=\"text-align: right;\">\n",
       "      <th></th>\n",
       "      <th>read amount</th>\n",
       "      <th>comments</th>\n",
       "      <th>title</th>\n",
       "      <th>content link</th>\n",
       "      <th>author</th>\n",
       "      <th>create time</th>\n",
       "    </tr>\n",
       "  </thead>\n",
       "  <tbody>\n",
       "    <tr>\n",
       "      <th>0</th>\n",
       "      <td>71</td>\n",
       "      <td>1</td>\n",
       "      <td>联创电子：融资净买入186.67万元，融资余额7.06亿元（07-20）</td>\n",
       "      <td>/news,002036,1333070451.html</td>\n",
       "      <td>联创电子资讯</td>\n",
       "      <td>07-21 08:42</td>\n",
       "    </tr>\n",
       "    <tr>\n",
       "      <th>1</th>\n",
       "      <td>156</td>\n",
       "      <td>0</td>\n",
       "      <td>联创电子07月20日被深股通减持55.42万股</td>\n",
       "      <td>/news,002036,1333065306.html</td>\n",
       "      <td>联创电子资讯</td>\n",
       "      <td>07-21 08:11</td>\n",
       "    </tr>\n",
       "    <tr>\n",
       "      <th>2</th>\n",
       "      <td>84</td>\n",
       "      <td>0</td>\n",
       "      <td>联创电子：融资净买入2180.29万元，融资余额7.04亿元（07-19）</td>\n",
       "      <td>/news,002036,1332588606.html</td>\n",
       "      <td>联创电子资讯</td>\n",
       "      <td>07-20 08:43</td>\n",
       "    </tr>\n",
       "    <tr>\n",
       "      <th>3</th>\n",
       "      <td>254</td>\n",
       "      <td>3</td>\n",
       "      <td>联创电子07月19日被深股通减持190.21万股</td>\n",
       "      <td>/news,002036,1332583514.html</td>\n",
       "      <td>联创电子资讯</td>\n",
       "      <td>07-20 08:09</td>\n",
       "    </tr>\n",
       "    <tr>\n",
       "      <th>4</th>\n",
       "      <td>154</td>\n",
       "      <td>0</td>\n",
       "      <td>联创电子7月19日快速反弹</td>\n",
       "      <td>/news,002036,1332184587.html</td>\n",
       "      <td>联创电子资讯</td>\n",
       "      <td>07-19 09:37</td>\n",
       "    </tr>\n",
       "    <tr>\n",
       "      <th>...</th>\n",
       "      <td>...</td>\n",
       "      <td>...</td>\n",
       "      <td>...</td>\n",
       "      <td>...</td>\n",
       "      <td>...</td>\n",
       "      <td>...</td>\n",
       "    </tr>\n",
       "    <tr>\n",
       "      <th>235</th>\n",
       "      <td>320</td>\n",
       "      <td>0</td>\n",
       "      <td>联创电子：融资净买入817.52万元，融资余额6.86亿元（05-15）</td>\n",
       "      <td>/news,002036,1309438166.html</td>\n",
       "      <td>联创电子资讯</td>\n",
       "      <td>05-16 08:43</td>\n",
       "    </tr>\n",
       "    <tr>\n",
       "      <th>236</th>\n",
       "      <td>454</td>\n",
       "      <td>1</td>\n",
       "      <td>联创电子05月15日获深股通增持10.34万股</td>\n",
       "      <td>/news,002036,1309429798.html</td>\n",
       "      <td>联创电子资讯</td>\n",
       "      <td>05-16 07:55</td>\n",
       "    </tr>\n",
       "    <tr>\n",
       "      <th>237</th>\n",
       "      <td>401</td>\n",
       "      <td>0</td>\n",
       "      <td>联创电子股价连续2日创逾44个月新低</td>\n",
       "      <td>/news,002036,1309288021.html</td>\n",
       "      <td>数据快报</td>\n",
       "      <td>05-15 03:41</td>\n",
       "    </tr>\n",
       "    <tr>\n",
       "      <th>238</th>\n",
       "      <td>367</td>\n",
       "      <td>0</td>\n",
       "      <td>联创电子：融资净偿还624.25万元，融资余额6.78亿元（05-12）</td>\n",
       "      <td>/news,002036,1308944924.html</td>\n",
       "      <td>联创电子资讯</td>\n",
       "      <td>05-15 08:43</td>\n",
       "    </tr>\n",
       "    <tr>\n",
       "      <th>239</th>\n",
       "      <td>409</td>\n",
       "      <td>0</td>\n",
       "      <td>联创电子本周融资净买入1276.13万元，居光学光电子板块第八</td>\n",
       "      <td>/news,002036,1308873021.html</td>\n",
       "      <td>大眼看两融</td>\n",
       "      <td>05-14 03:06</td>\n",
       "    </tr>\n",
       "  </tbody>\n",
       "</table>\n",
       "<p>240 rows × 6 columns</p>\n",
       "</div>"
      ],
      "text/plain": [
       "    read amount comments                                  title  \\\n",
       "0            71        1   联创电子：融资净买入186.67万元，融资余额7.06亿元（07-20）   \n",
       "1           156        0                联创电子07月20日被深股通减持55.42万股   \n",
       "2            84        0  联创电子：融资净买入2180.29万元，融资余额7.04亿元（07-19）   \n",
       "3           254        3               联创电子07月19日被深股通减持190.21万股   \n",
       "4           154        0                          联创电子7月19日快速反弹   \n",
       "..          ...      ...                                    ...   \n",
       "235         320        0   联创电子：融资净买入817.52万元，融资余额6.86亿元（05-15）   \n",
       "236         454        1                联创电子05月15日获深股通增持10.34万股   \n",
       "237         401        0                     联创电子股价连续2日创逾44个月新低   \n",
       "238         367        0   联创电子：融资净偿还624.25万元，融资余额6.78亿元（05-12）   \n",
       "239         409        0        联创电子本周融资净买入1276.13万元，居光学光电子板块第八   \n",
       "\n",
       "                     content link  author  create time  \n",
       "0    /news,002036,1333070451.html  联创电子资讯  07-21 08:42  \n",
       "1    /news,002036,1333065306.html  联创电子资讯  07-21 08:11  \n",
       "2    /news,002036,1332588606.html  联创电子资讯  07-20 08:43  \n",
       "3    /news,002036,1332583514.html  联创电子资讯  07-20 08:09  \n",
       "4    /news,002036,1332184587.html  联创电子资讯  07-19 09:37  \n",
       "..                            ...     ...          ...  \n",
       "235  /news,002036,1309438166.html  联创电子资讯  05-16 08:43  \n",
       "236  /news,002036,1309429798.html  联创电子资讯  05-16 07:55  \n",
       "237  /news,002036,1309288021.html    数据快报  05-15 03:41  \n",
       "238  /news,002036,1308944924.html  联创电子资讯  05-15 08:43  \n",
       "239  /news,002036,1308873021.html   大眼看两融  05-14 03:06  \n",
       "\n",
       "[240 rows x 6 columns]"
      ]
     },
     "execution_count": 16,
     "metadata": {},
     "output_type": "execute_result"
    }
   ],
   "source": [
    "df"
   ]
  },
  {
   "cell_type": "code",
   "execution_count": null,
   "metadata": {},
   "outputs": [],
   "source": []
  },
  {
   "cell_type": "code",
   "execution_count": null,
   "metadata": {},
   "outputs": [],
   "source": []
  },
  {
   "cell_type": "code",
   "execution_count": null,
   "metadata": {
    "collapsed": false
   },
   "outputs": [],
   "source": []
  }
 ],
 "metadata": {
  "kernelspec": {
   "display_name": "Python 3 (ipykernel)",
   "language": "python",
   "name": "python3"
  },
  "language_info": {
   "codemirror_mode": {
    "name": "ipython",
    "version": 3
   },
   "file_extension": ".py",
   "mimetype": "text/x-python",
   "name": "python",
   "nbconvert_exporter": "python",
   "pygments_lexer": "ipython3",
   "version": "3.11.4"
  }
 },
 "nbformat": 4,
 "nbformat_minor": 1
}
